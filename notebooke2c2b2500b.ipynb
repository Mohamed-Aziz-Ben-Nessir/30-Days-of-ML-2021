{
 "cells": [
  {
   "cell_type": "code",
   "execution_count": 1,
   "id": "9981fc1c",
   "metadata": {
    "execution": {
     "iopub.execute_input": "2021-08-30T11:49:06.096612Z",
     "iopub.status.busy": "2021-08-30T11:49:06.095760Z",
     "iopub.status.idle": "2021-08-30T11:49:08.861346Z",
     "shell.execute_reply": "2021-08-30T11:49:08.860491Z",
     "shell.execute_reply.started": "2021-08-30T11:45:21.456670Z"
    },
    "papermill": {
     "duration": 2.792608,
     "end_time": "2021-08-30T11:49:08.861531",
     "exception": false,
     "start_time": "2021-08-30T11:49:06.068923",
     "status": "completed"
    },
    "tags": []
   },
   "outputs": [
    {
     "data": {
      "text/html": [
       "<style type='text/css'>\n",
       ".datatable table.frame { margin-bottom: 0; }\n",
       ".datatable table.frame thead { border-bottom: none; }\n",
       ".datatable table.frame tr.coltypes td {  color: #FFFFFF;  line-height: 6px;  padding: 0 0.5em;}\n",
       ".datatable .bool    { background: #DDDD99; }\n",
       ".datatable .object  { background: #565656; }\n",
       ".datatable .int     { background: #5D9E5D; }\n",
       ".datatable .float   { background: #4040CC; }\n",
       ".datatable .str     { background: #CC4040; }\n",
       ".datatable .time    { background: #40CC40; }\n",
       ".datatable .row_index {  background: var(--jp-border-color3);  border-right: 1px solid var(--jp-border-color0);  color: var(--jp-ui-font-color3);  font-size: 9px;}\n",
       ".datatable .frame tbody td { text-align: left; }\n",
       ".datatable .frame tr.coltypes .row_index {  background: var(--jp-border-color0);}\n",
       ".datatable th:nth-child(2) { padding-left: 12px; }\n",
       ".datatable .hellipsis {  color: var(--jp-cell-editor-border-color);}\n",
       ".datatable .vellipsis {  background: var(--jp-layout-color0);  color: var(--jp-cell-editor-border-color);}\n",
       ".datatable .na {  color: var(--jp-cell-editor-border-color);  font-size: 80%;}\n",
       ".datatable .sp {  opacity: 0.25;}\n",
       ".datatable .footer { font-size: 9px; }\n",
       ".datatable .frame_dimensions {  background: var(--jp-border-color3);  border-top: 1px solid var(--jp-border-color0);  color: var(--jp-ui-font-color3);  display: inline-block;  opacity: 0.6;  padding: 1px 10px 1px 5px;}\n",
       "</style>\n"
      ],
      "text/plain": [
       "<IPython.core.display.HTML object>"
      ]
     },
     "metadata": {},
     "output_type": "display_data"
    }
   ],
   "source": [
    "import numpy as np\n",
    "import pandas as pd\n",
    "from sklearn.preprocessing import OrdinalEncoder\n",
    "from lightgbm import LGBMRegressor\n",
    "from tqdm import tqdm\n",
    "from sklearn.metrics import mean_squared_error\n",
    "from sklearn.model_selection import train_test_split, KFold, GridSearchCV\n",
    "from sklearn.preprocessing import StandardScaler\n",
    "import matplotlib.pyplot as plt\n",
    "from sklearn.model_selection import KFold, StratifiedKFold,cross_val_score\n",
    "from skopt import BayesSearchCV\n",
    "from skopt.callbacks import DeadlineStopper, DeltaYStopper\n",
    "from skopt.space import Real, Categorical, Integer\n",
    "from sklearn.metrics import make_scorer\n",
    "from sklearn.decomposition import TruncatedSVD\n",
    "from sklearn.feature_extraction.text import TfidfVectorizer, CountVectorizer\n",
    "%matplotlib inline\n",
    "import warnings\n",
    "warnings.filterwarnings('ignore')"
   ]
  },
  {
   "cell_type": "code",
   "execution_count": 2,
   "id": "771635e1",
   "metadata": {
    "execution": {
     "iopub.execute_input": "2021-08-30T11:49:08.886436Z",
     "iopub.status.busy": "2021-08-30T11:49:08.885622Z",
     "iopub.status.idle": "2021-08-30T11:49:13.613858Z",
     "shell.execute_reply": "2021-08-30T11:49:13.613308Z",
     "shell.execute_reply.started": "2021-08-30T11:45:24.287371Z"
    },
    "papermill": {
     "duration": 4.74274,
     "end_time": "2021-08-30T11:49:13.614168",
     "exception": false,
     "start_time": "2021-08-30T11:49:08.871428",
     "status": "completed"
    },
    "tags": []
   },
   "outputs": [],
   "source": [
    "train = pd.read_csv(\"../input/30-days-of-ml/train.csv\", index_col='id')\n",
    "test = pd.read_csv(\"../input/30-days-of-ml/test.csv\", index_col='id')"
   ]
  },
  {
   "cell_type": "code",
   "execution_count": 3,
   "id": "c33043d8",
   "metadata": {
    "execution": {
     "iopub.execute_input": "2021-08-30T11:49:13.637820Z",
     "iopub.status.busy": "2021-08-30T11:49:13.637125Z",
     "iopub.status.idle": "2021-08-30T11:49:13.674227Z",
     "shell.execute_reply": "2021-08-30T11:49:13.673581Z",
     "shell.execute_reply.started": "2021-08-30T11:45:29.957011Z"
    },
    "papermill": {
     "duration": 0.05144,
     "end_time": "2021-08-30T11:49:13.674403",
     "exception": false,
     "start_time": "2021-08-30T11:49:13.622963",
     "status": "completed"
    },
    "tags": []
   },
   "outputs": [],
   "source": [
    "y = train.target\n",
    "X = train.drop(['target'], axis=1)"
   ]
  },
  {
   "cell_type": "code",
   "execution_count": 4,
   "id": "dfcd7416",
   "metadata": {
    "execution": {
     "iopub.execute_input": "2021-08-30T11:49:13.752517Z",
     "iopub.status.busy": "2021-08-30T11:49:13.740904Z",
     "iopub.status.idle": "2021-08-30T11:49:17.946647Z",
     "shell.execute_reply": "2021-08-30T11:49:17.947150Z",
     "shell.execute_reply.started": "2021-08-30T11:45:30.010501Z"
    },
    "papermill": {
     "duration": 4.2639,
     "end_time": "2021-08-30T11:49:17.947346",
     "exception": false,
     "start_time": "2021-08-30T11:49:13.683446",
     "status": "completed"
    },
    "tags": []
   },
   "outputs": [],
   "source": [
    "s=(train.dtypes=='object')\n",
    "object_cols=list(s[s].index)\n",
    "ordinal_encoder=OrdinalEncoder()\n",
    "X[object_cols]=ordinal_encoder.fit_transform(X[object_cols])\n",
    "test[object_cols]=ordinal_encoder.fit_transform(test[object_cols])"
   ]
  },
  {
   "cell_type": "code",
   "execution_count": 5,
   "id": "48754848",
   "metadata": {
    "execution": {
     "iopub.execute_input": "2021-08-30T11:49:17.970449Z",
     "iopub.status.busy": "2021-08-30T11:49:17.969651Z",
     "iopub.status.idle": "2021-08-30T11:49:17.973421Z",
     "shell.execute_reply": "2021-08-30T11:49:17.972808Z",
     "shell.execute_reply.started": "2021-08-30T11:45:34.733247Z"
    },
    "papermill": {
     "duration": 0.017614,
     "end_time": "2021-08-30T11:49:17.973567",
     "exception": false,
     "start_time": "2021-08-30T11:49:17.955953",
     "status": "completed"
    },
    "tags": []
   },
   "outputs": [],
   "source": [
    "lgbm = LGBMRegressor(n_estimators = 140,\n",
    "                           learning_rate = 0.135,\n",
    "                           num_leaves = 40,\n",
    "                           max_depth = 1,\n",
    "                           min_data_in_leaf = 40,\n",
    "                           random_state=0)"
   ]
  },
  {
   "cell_type": "code",
   "execution_count": 6,
   "id": "faee8ba6",
   "metadata": {
    "execution": {
     "iopub.execute_input": "2021-08-30T11:49:17.997735Z",
     "iopub.status.busy": "2021-08-30T11:49:17.996924Z",
     "iopub.status.idle": "2021-08-30T11:49:27.793612Z",
     "shell.execute_reply": "2021-08-30T11:49:27.792738Z",
     "shell.execute_reply.started": "2021-08-30T11:45:34.740178Z"
    },
    "papermill": {
     "duration": 9.811357,
     "end_time": "2021-08-30T11:49:27.793778",
     "exception": false,
     "start_time": "2021-08-30T11:49:17.982421",
     "status": "completed"
    },
    "tags": []
   },
   "outputs": [
    {
     "name": "stdout",
     "output_type": "stream",
     "text": [
      "[LightGBM] [Warning] min_data_in_leaf is set=40, min_child_samples=20 will be ignored. Current value: min_data_in_leaf=40\n",
      "[LightGBM] [Warning] min_data_in_leaf is set=40, min_child_samples=20 will be ignored. Current value: min_data_in_leaf=40\n",
      "[LightGBM] [Warning] min_data_in_leaf is set=40, min_child_samples=20 will be ignored. Current value: min_data_in_leaf=40\n",
      "[LightGBM] [Warning] min_data_in_leaf is set=40, min_child_samples=20 will be ignored. Current value: min_data_in_leaf=40\n",
      "[LightGBM] [Warning] min_data_in_leaf is set=40, min_child_samples=20 will be ignored. Current value: min_data_in_leaf=40\n",
      "[LightGBM] [Warning] min_data_in_leaf is set=40, min_child_samples=20 will be ignored. Current value: min_data_in_leaf=40\n",
      "[LightGBM] [Warning] min_data_in_leaf is set=40, min_child_samples=20 will be ignored. Current value: min_data_in_leaf=40\n",
      "0.028427422110863163\n"
     ]
    }
   ],
   "source": [
    "print(sum(cross_val_score(lgbm, X, y, cv=7, n_jobs=1))/7)"
   ]
  },
  {
   "cell_type": "code",
   "execution_count": 7,
   "id": "fc3448e9",
   "metadata": {
    "execution": {
     "iopub.execute_input": "2021-08-30T11:49:27.829825Z",
     "iopub.status.busy": "2021-08-30T11:49:27.828433Z",
     "iopub.status.idle": "2021-08-30T11:49:29.273683Z",
     "shell.execute_reply": "2021-08-30T11:49:29.275246Z",
     "shell.execute_reply.started": "2021-08-30T11:47:49.090934Z"
    },
    "papermill": {
     "duration": 1.468365,
     "end_time": "2021-08-30T11:49:29.275515",
     "exception": false,
     "start_time": "2021-08-30T11:49:27.807150",
     "status": "completed"
    },
    "tags": []
   },
   "outputs": [
    {
     "name": "stdout",
     "output_type": "stream",
     "text": [
      "[LightGBM] [Warning] min_data_in_leaf is set=40, min_child_samples=20 will be ignored. Current value: min_data_in_leaf=40\n"
     ]
    },
    {
     "data": {
      "text/plain": [
       "LGBMRegressor(learning_rate=0.135, max_depth=1, min_data_in_leaf=40,\n",
       "              n_estimators=140, num_leaves=40, random_state=0)"
      ]
     },
     "execution_count": 7,
     "metadata": {},
     "output_type": "execute_result"
    }
   ],
   "source": [
    "lgbm.fit(X,y)"
   ]
  },
  {
   "cell_type": "code",
   "execution_count": 8,
   "id": "d3e851c8",
   "metadata": {
    "execution": {
     "iopub.execute_input": "2021-08-30T11:49:29.307678Z",
     "iopub.status.busy": "2021-08-30T11:49:29.306112Z",
     "iopub.status.idle": "2021-08-30T11:49:30.332459Z",
     "shell.execute_reply": "2021-08-30T11:49:30.331708Z",
     "shell.execute_reply.started": "2021-08-30T11:48:30.934315Z"
    },
    "papermill": {
     "duration": 1.044274,
     "end_time": "2021-08-30T11:49:30.332605",
     "exception": false,
     "start_time": "2021-08-30T11:49:29.288331",
     "status": "completed"
    },
    "tags": []
   },
   "outputs": [],
   "source": [
    "predictions=lgbm.predict(test)\n",
    "output=pd.DataFrame({'Id':test.index,'target': predictions})\n",
    "output.to_csv('submission.csv',index=False)"
   ]
  }
 ],
 "metadata": {
  "kernelspec": {
   "display_name": "Python 3",
   "language": "python",
   "name": "python3"
  },
  "language_info": {
   "codemirror_mode": {
    "name": "ipython",
    "version": 3
   },
   "file_extension": ".py",
   "mimetype": "text/x-python",
   "name": "python",
   "nbconvert_exporter": "python",
   "pygments_lexer": "ipython3",
   "version": "3.7.10"
  },
  "papermill": {
   "default_parameters": {},
   "duration": 34.852717,
   "end_time": "2021-08-30T11:49:31.887764",
   "environment_variables": {},
   "exception": null,
   "input_path": "__notebook__.ipynb",
   "output_path": "__notebook__.ipynb",
   "parameters": {},
   "start_time": "2021-08-30T11:48:57.035047",
   "version": "2.3.3"
  }
 },
 "nbformat": 4,
 "nbformat_minor": 5
}

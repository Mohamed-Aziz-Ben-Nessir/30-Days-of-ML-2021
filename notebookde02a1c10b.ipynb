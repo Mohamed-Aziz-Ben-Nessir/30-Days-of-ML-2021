{
 "cells": [
  {
   "cell_type": "code",
   "execution_count": 1,
   "id": "a32fa4ae",
   "metadata": {
    "_cell_guid": "b1076dfc-b9ad-4769-8c92-a6c4dae69d19",
    "_uuid": "8f2839f25d086af736a60e9eeb907d3b93b6e0e5",
    "execution": {
     "iopub.execute_input": "2021-08-28T17:17:30.708536Z",
     "iopub.status.busy": "2021-08-28T17:17:30.706481Z",
     "iopub.status.idle": "2021-08-28T17:17:37.564375Z",
     "shell.execute_reply": "2021-08-28T17:17:37.565185Z",
     "shell.execute_reply.started": "2021-08-28T17:02:44.147325Z"
    },
    "papermill": {
     "duration": 6.877254,
     "end_time": "2021-08-28T17:17:37.565526",
     "exception": false,
     "start_time": "2021-08-28T17:17:30.688272",
     "status": "completed"
    },
    "tags": []
   },
   "outputs": [
    {
     "name": "stdout",
     "output_type": "stream",
     "text": [
      "/kaggle/input/30-days-of-ml/sample_submission.csv\n",
      "/kaggle/input/30-days-of-ml/train.csv\n",
      "/kaggle/input/30-days-of-ml/test.csv\n"
     ]
    }
   ],
   "source": [
    "import tensorflow as tf\n",
    "import numpy as np \n",
    "import pandas as pd \n",
    "import sklearn\n",
    "import sklearn.model_selection\n",
    "from sklearn.ensemble import RandomForestRegressor\n",
    "from sklearn.metrics import mean_squared_error\n",
    "\n",
    "import os\n",
    "for dirname, _, filenames in os.walk('/kaggle/input'):\n",
    "    for filename in filenames:\n",
    "        print(os.path.join(dirname, filename))\n"
   ]
  },
  {
   "cell_type": "code",
   "execution_count": 2,
   "id": "353c88be",
   "metadata": {
    "execution": {
     "iopub.execute_input": "2021-08-28T17:17:37.598605Z",
     "iopub.status.busy": "2021-08-28T17:17:37.597831Z",
     "iopub.status.idle": "2021-08-28T17:17:40.347740Z",
     "shell.execute_reply": "2021-08-28T17:17:40.347190Z",
     "shell.execute_reply.started": "2021-08-28T17:02:49.268189Z"
    },
    "papermill": {
     "duration": 2.768542,
     "end_time": "2021-08-28T17:17:40.347909",
     "exception": false,
     "start_time": "2021-08-28T17:17:37.579367",
     "status": "completed"
    },
    "tags": []
   },
   "outputs": [],
   "source": [
    "Train_data = pd.read_csv('/kaggle/input/30-days-of-ml/train.csv').set_index(\"id\")\n",
    "X,y= Train_data.drop(['target'], axis=1)  ,   Train_data.target \n",
    "cols_with_missing = [col for col in X.columns if X[col].isnull().any()]\n",
    "cols_with_letter_values = [{col:X[col].unique()} for col in X if X[col].dtypes == 'object' ]\n",
    "object_cols = [col for col in X if X[col].dtypes == 'object' ]"
   ]
  },
  {
   "cell_type": "code",
   "execution_count": 3,
   "id": "fc0d65cf",
   "metadata": {
    "execution": {
     "iopub.execute_input": "2021-08-28T17:17:40.378210Z",
     "iopub.status.busy": "2021-08-28T17:17:40.377468Z",
     "iopub.status.idle": "2021-08-28T17:17:40.382687Z",
     "shell.execute_reply": "2021-08-28T17:17:40.382090Z",
     "shell.execute_reply.started": "2021-08-28T17:02:51.726715Z"
    },
    "papermill": {
     "duration": 0.021316,
     "end_time": "2021-08-28T17:17:40.382996",
     "exception": false,
     "start_time": "2021-08-28T17:17:40.361680",
     "status": "completed"
    },
    "tags": []
   },
   "outputs": [],
   "source": [
    "cut_off=5"
   ]
  },
  {
   "cell_type": "code",
   "execution_count": 4,
   "id": "253539c9",
   "metadata": {
    "execution": {
     "iopub.execute_input": "2021-08-28T17:17:40.416512Z",
     "iopub.status.busy": "2021-08-28T17:17:40.415245Z",
     "iopub.status.idle": "2021-08-28T17:17:42.284635Z",
     "shell.execute_reply": "2021-08-28T17:17:42.284087Z",
     "shell.execute_reply.started": "2021-08-28T17:02:51.737096Z"
    },
    "papermill": {
     "duration": 1.889711,
     "end_time": "2021-08-28T17:17:42.284828",
     "exception": false,
     "start_time": "2021-08-28T17:17:40.395117",
     "status": "completed"
    },
    "tags": []
   },
   "outputs": [
    {
     "name": "stdout",
     "output_type": "stream",
     "text": [
      "ordinary endcoding on ['cat5', 'cat6', 'cat7', 'cat8', 'cat9']\n",
      "One-Hot endcoding on ['cat0', 'cat1', 'cat2', 'cat3', 'cat4']\n"
     ]
    }
   ],
   "source": [
    "#orordinal_ encoder<<<<<<<<<<<<<<<<<<< \n",
    "ordinal_encoder = sklearn.preprocessing.OrdinalEncoder()\n",
    "X[object_cols[cut_off:]] = ordinal_encoder.fit_transform(X[object_cols[cut_off:]])\n",
    "print('ordinary endcoding on {}'.format(object_cols[cut_off:]))\n",
    "#one hot encoding<<<<<<<<<<<<<< for 1-4 or maybe from 1-8\n",
    "OH_encoder = sklearn.preprocessing.OneHotEncoder(handle_unknown='ignore', sparse=False)\n",
    "OH_cols_train = pd.DataFrame(OH_encoder.fit_transform(X[object_cols[:cut_off]])) # the cut off happens here ----------------\n",
    "OH_cols_train.index = X.index\n",
    "num_X_train = X.drop(object_cols[:cut_off], axis=1)\n",
    "X = pd.concat([num_X_train, OH_cols_train], axis=1)\n",
    "print('One-Hot endcoding on {}'.format(object_cols[:cut_off]))"
   ]
  },
  {
   "cell_type": "code",
   "execution_count": 5,
   "id": "ac06cda6",
   "metadata": {
    "execution": {
     "iopub.execute_input": "2021-08-28T17:17:42.316006Z",
     "iopub.status.busy": "2021-08-28T17:17:42.314916Z",
     "iopub.status.idle": "2021-08-28T17:17:42.488736Z",
     "shell.execute_reply": "2021-08-28T17:17:42.488175Z",
     "shell.execute_reply.started": "2021-08-28T17:02:53.271607Z"
    },
    "papermill": {
     "duration": 0.19123,
     "end_time": "2021-08-28T17:17:42.488931",
     "exception": false,
     "start_time": "2021-08-28T17:17:42.297701",
     "status": "completed"
    },
    "tags": []
   },
   "outputs": [],
   "source": [
    "X_train, X_valid, y_train, y_valid = sklearn.model_selection.train_test_split(X, y)"
   ]
  },
  {
   "cell_type": "code",
   "execution_count": 6,
   "id": "084eed11",
   "metadata": {
    "execution": {
     "iopub.execute_input": "2021-08-28T17:17:42.522510Z",
     "iopub.status.busy": "2021-08-28T17:17:42.521170Z",
     "iopub.status.idle": "2021-08-28T17:27:47.563717Z",
     "shell.execute_reply": "2021-08-28T17:27:47.564285Z",
     "shell.execute_reply.started": "2021-08-28T17:02:53.627945Z"
    },
    "papermill": {
     "duration": 605.06281,
     "end_time": "2021-08-28T17:27:47.564506",
     "exception": false,
     "start_time": "2021-08-28T17:17:42.501696",
     "status": "completed"
    },
    "tags": []
   },
   "outputs": [
    {
     "data": {
      "text/plain": [
       "RandomForestRegressor()"
      ]
     },
     "execution_count": 6,
     "metadata": {},
     "output_type": "execute_result"
    }
   ],
   "source": [
    "#RandomForestRegressor\n",
    "Forest_model=sklearn.ensemble.RandomForestRegressor()\n",
    "Forest_model.fit(X_train,y_train)\n"
   ]
  },
  {
   "cell_type": "code",
   "execution_count": 7,
   "id": "80c0c9ce",
   "metadata": {
    "execution": {
     "iopub.execute_input": "2021-08-28T17:27:47.598480Z",
     "iopub.status.busy": "2021-08-28T17:27:47.597089Z",
     "iopub.status.idle": "2021-08-28T17:27:52.065145Z",
     "shell.execute_reply": "2021-08-28T17:27:52.064267Z",
     "shell.execute_reply.started": "2021-08-28T17:13:40.138427Z"
    },
    "papermill": {
     "duration": 4.488519,
     "end_time": "2021-08-28T17:27:52.065415",
     "exception": false,
     "start_time": "2021-08-28T17:27:47.576896",
     "status": "completed"
    },
    "tags": []
   },
   "outputs": [
    {
     "name": "stdout",
     "output_type": "stream",
     "text": [
      "0.7344269037864378\n"
     ]
    }
   ],
   "source": [
    "preds_valid = Forest_model.predict(X_valid)\n",
    "print(mean_squared_error(y_valid, preds_valid, squared=False))"
   ]
  },
  {
   "cell_type": "code",
   "execution_count": 8,
   "id": "b271ac2b",
   "metadata": {
    "execution": {
     "iopub.execute_input": "2021-08-28T17:27:52.095532Z",
     "iopub.status.busy": "2021-08-28T17:27:52.094807Z",
     "iopub.status.idle": "2021-08-28T17:27:53.200170Z",
     "shell.execute_reply": "2021-08-28T17:27:53.199260Z",
     "shell.execute_reply.started": "2021-08-28T17:14:21.239103Z"
    },
    "papermill": {
     "duration": 1.121266,
     "end_time": "2021-08-28T17:27:53.200306",
     "exception": false,
     "start_time": "2021-08-28T17:27:52.079040",
     "status": "completed"
    },
    "tags": []
   },
   "outputs": [],
   "source": [
    "test = pd.read_csv(\"../input/30-days-of-ml/test.csv\", index_col=0)"
   ]
  },
  {
   "cell_type": "code",
   "execution_count": 9,
   "id": "167c566c",
   "metadata": {
    "execution": {
     "iopub.execute_input": "2021-08-28T17:27:53.236703Z",
     "iopub.status.busy": "2021-08-28T17:27:53.235436Z",
     "iopub.status.idle": "2021-08-28T17:27:54.345558Z",
     "shell.execute_reply": "2021-08-28T17:27:54.344984Z",
     "shell.execute_reply.started": "2021-08-28T17:15:19.438540Z"
    },
    "papermill": {
     "duration": 1.131885,
     "end_time": "2021-08-28T17:27:54.345706",
     "exception": false,
     "start_time": "2021-08-28T17:27:53.213821",
     "status": "completed"
    },
    "tags": []
   },
   "outputs": [
    {
     "name": "stdout",
     "output_type": "stream",
     "text": [
      "ordinary endcoding on ['cat5', 'cat6', 'cat7', 'cat8', 'cat9']\n",
      "One-Hot endcoding on ['cat0', 'cat1', 'cat2', 'cat3', 'cat4']\n"
     ]
    }
   ],
   "source": [
    "ordinal_encoder = sklearn.preprocessing.OrdinalEncoder()\n",
    "test[object_cols[cut_off:]] = ordinal_encoder.fit_transform(test[object_cols[cut_off:]])\n",
    "print('ordinary endcoding on {}'.format(object_cols[cut_off:]))\n",
    "#one hot encoding<<<<<<<<<<<<<< for 1-4 or maybe from 1-8\n",
    "OH_encoder = sklearn.preprocessing.OneHotEncoder(handle_unknown='ignore', sparse=False)\n",
    "OH_cols_train = pd.DataFrame(OH_encoder.fit_transform(test[object_cols[:cut_off]])) # the cut off happens here ----------------\n",
    "OH_cols_train.index = test.index\n",
    "num_X_train = test.drop(object_cols[:cut_off], axis=1)\n",
    "test = pd.concat([num_X_train, OH_cols_train], axis=1)\n",
    "print('One-Hot endcoding on {}'.format(object_cols[:cut_off]))"
   ]
  },
  {
   "cell_type": "code",
   "execution_count": 10,
   "id": "6dd8f89f",
   "metadata": {
    "execution": {
     "iopub.execute_input": "2021-08-28T17:27:54.382609Z",
     "iopub.status.busy": "2021-08-28T17:27:54.381240Z",
     "iopub.status.idle": "2021-08-28T17:28:05.700592Z",
     "shell.execute_reply": "2021-08-28T17:28:05.701644Z",
     "shell.execute_reply.started": "2021-08-28T17:15:58.948929Z"
    },
    "papermill": {
     "duration": 11.342527,
     "end_time": "2021-08-28T17:28:05.701931",
     "exception": false,
     "start_time": "2021-08-28T17:27:54.359404",
     "status": "completed"
    },
    "tags": []
   },
   "outputs": [],
   "source": [
    "predictions = Forest_model.predict(test)"
   ]
  },
  {
   "cell_type": "code",
   "execution_count": 11,
   "id": "9edab3f2",
   "metadata": {
    "execution": {
     "iopub.execute_input": "2021-08-28T17:28:05.756759Z",
     "iopub.status.busy": "2021-08-28T17:28:05.755757Z",
     "iopub.status.idle": "2021-08-28T17:28:06.484908Z",
     "shell.execute_reply": "2021-08-28T17:28:06.484339Z",
     "shell.execute_reply.started": "2021-08-28T17:16:23.437312Z"
    },
    "papermill": {
     "duration": 0.759674,
     "end_time": "2021-08-28T17:28:06.485134",
     "exception": false,
     "start_time": "2021-08-28T17:28:05.725460",
     "status": "completed"
    },
    "tags": []
   },
   "outputs": [],
   "source": [
    "output = pd.DataFrame({'Id': test.index,\n",
    "                       'target': predictions})\n",
    "output.to_csv('submission.csv', index=False)"
   ]
  },
  {
   "cell_type": "code",
   "execution_count": null,
   "id": "906ccadf",
   "metadata": {
    "papermill": {
     "duration": 0.014023,
     "end_time": "2021-08-28T17:28:06.512737",
     "exception": false,
     "start_time": "2021-08-28T17:28:06.498714",
     "status": "completed"
    },
    "tags": []
   },
   "outputs": [],
   "source": []
  }
 ],
 "metadata": {
  "kernelspec": {
   "display_name": "Python 3",
   "language": "python",
   "name": "python3"
  },
  "language_info": {
   "codemirror_mode": {
    "name": "ipython",
    "version": 3
   },
   "file_extension": ".py",
   "mimetype": "text/x-python",
   "name": "python",
   "nbconvert_exporter": "python",
   "pygments_lexer": "ipython3",
   "version": "3.7.10"
  },
  "papermill": {
   "default_parameters": {},
   "duration": 646.013197,
   "end_time": "2021-08-28T17:28:08.651662",
   "environment_variables": {},
   "exception": null,
   "input_path": "__notebook__.ipynb",
   "output_path": "__notebook__.ipynb",
   "parameters": {},
   "start_time": "2021-08-28T17:17:22.638465",
   "version": "2.3.3"
  }
 },
 "nbformat": 4,
 "nbformat_minor": 5
}

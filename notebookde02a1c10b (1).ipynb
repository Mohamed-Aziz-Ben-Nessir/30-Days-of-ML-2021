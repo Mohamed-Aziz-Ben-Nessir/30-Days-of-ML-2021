{
 "cells": [
  {
   "cell_type": "code",
   "execution_count": 1,
   "id": "e712af68",
   "metadata": {
    "_cell_guid": "b1076dfc-b9ad-4769-8c92-a6c4dae69d19",
    "_uuid": "8f2839f25d086af736a60e9eeb907d3b93b6e0e5",
    "execution": {
     "iopub.execute_input": "2021-08-31T15:21:19.928359Z",
     "iopub.status.busy": "2021-08-31T15:21:19.927266Z",
     "iopub.status.idle": "2021-08-31T15:21:21.169859Z",
     "shell.execute_reply": "2021-08-31T15:21:21.170602Z",
     "shell.execute_reply.started": "2021-08-31T15:05:08.683037Z"
    },
    "papermill": {
     "duration": 1.254188,
     "end_time": "2021-08-31T15:21:21.170972",
     "exception": false,
     "start_time": "2021-08-31T15:21:19.916784",
     "status": "completed"
    },
    "tags": []
   },
   "outputs": [],
   "source": [
    "import numpy as np \n",
    "import pandas as pd \n",
    "import sklearn\n",
    "import sklearn.model_selection\n",
    "from sklearn.ensemble import RandomForestRegressor\n",
    "from sklearn.metrics import mean_squared_error"
   ]
  },
  {
   "cell_type": "code",
   "execution_count": 2,
   "id": "3bf51493",
   "metadata": {
    "execution": {
     "iopub.execute_input": "2021-08-31T15:21:21.194388Z",
     "iopub.status.busy": "2021-08-31T15:21:21.193750Z",
     "iopub.status.idle": "2021-08-31T15:21:24.304236Z",
     "shell.execute_reply": "2021-08-31T15:21:24.303745Z",
     "shell.execute_reply.started": "2021-08-31T15:05:09.909882Z"
    },
    "papermill": {
     "duration": 3.125274,
     "end_time": "2021-08-31T15:21:24.304411",
     "exception": false,
     "start_time": "2021-08-31T15:21:21.179137",
     "status": "completed"
    },
    "tags": []
   },
   "outputs": [],
   "source": [
    "Train_data = pd.read_csv('/kaggle/input/30-days-of-ml/train.csv').set_index(\"id\")\n",
    "X,y= Train_data.drop(['target'], axis=1)  ,   Train_data.target \n",
    "cols_with_missing = [col for col in X.columns if X[col].isnull().any()]\n",
    "cols_with_letter_values = [{col:X[col].unique()} for col in X if X[col].dtypes == 'object' ]\n",
    "object_cols = [col for col in X if X[col].dtypes == 'object' ]"
   ]
  },
  {
   "cell_type": "code",
   "execution_count": 3,
   "id": "424327a2",
   "metadata": {
    "execution": {
     "iopub.execute_input": "2021-08-31T15:21:24.322109Z",
     "iopub.status.busy": "2021-08-31T15:21:24.321477Z",
     "iopub.status.idle": "2021-08-31T15:21:25.879337Z",
     "shell.execute_reply": "2021-08-31T15:21:25.878746Z",
     "shell.execute_reply.started": "2021-08-31T15:05:13.179885Z"
    },
    "papermill": {
     "duration": 1.569031,
     "end_time": "2021-08-31T15:21:25.879560",
     "exception": false,
     "start_time": "2021-08-31T15:21:24.310529",
     "status": "completed"
    },
    "tags": []
   },
   "outputs": [],
   "source": [
    "ordinal_encoder = sklearn.preprocessing.OrdinalEncoder()\n",
    "X[object_cols] = ordinal_encoder.fit_transform(X[object_cols])"
   ]
  },
  {
   "cell_type": "code",
   "execution_count": 4,
   "id": "ddb114a2",
   "metadata": {
    "execution": {
     "iopub.execute_input": "2021-08-31T15:21:25.896308Z",
     "iopub.status.busy": "2021-08-31T15:21:25.895734Z",
     "iopub.status.idle": "2021-08-31T15:59:43.560768Z",
     "shell.execute_reply": "2021-08-31T15:59:43.561248Z"
    },
    "papermill": {
     "duration": 2297.675965,
     "end_time": "2021-08-31T15:59:43.561641",
     "exception": false,
     "start_time": "2021-08-31T15:21:25.885676",
     "status": "completed"
    },
    "tags": []
   },
   "outputs": [
    {
     "data": {
      "text/plain": [
       "XGBRegressor(base_score=0.5, booster='gbtree', colsample_bylevel=1,\n",
       "             colsample_bynode=1, colsample_bytree=1, gamma=0, gpu_id=-1,\n",
       "             importance_type='gain', interaction_constraints='',\n",
       "             learning_rate=0.03, max_delta_step=0, max_depth=3,\n",
       "             min_child_weight=1, missing=nan, monotone_constraints='()',\n",
       "             n_estimators=7500, n_jobs=4, num_parallel_tree=1, random_state=0,\n",
       "             reg_alpha=0, reg_lambda=1, scale_pos_weight=1, subsample=1,\n",
       "             tree_method='exact', validate_parameters=1, verbosity=None)"
      ]
     },
     "execution_count": 4,
     "metadata": {},
     "output_type": "execute_result"
    }
   ],
   "source": [
    "#XGB bosst\n",
    "from xgboost import XGBRegressor\n",
    "\n",
    "XGB_model = XGBRegressor(n_estimators=7500,booster='gbtree', learning_rate=0.03,max_depth=3,)\n",
    "XGB_model.fit(X, y)\n",
    "#preds_valid = XGB_model.predict(X_valid)\n",
    "#loss=mean_squared_error(y_valid, preds_valid, squared=False)\n",
    "#print(loss)"
   ]
  },
  {
   "cell_type": "code",
   "execution_count": 5,
   "id": "21838cbd",
   "metadata": {
    "execution": {
     "iopub.execute_input": "2021-08-31T15:59:43.577182Z",
     "iopub.status.busy": "2021-08-31T15:59:43.576604Z",
     "iopub.status.idle": "2021-08-31T15:59:45.407964Z",
     "shell.execute_reply": "2021-08-31T15:59:45.407316Z"
    },
    "papermill": {
     "duration": 1.840179,
     "end_time": "2021-08-31T15:59:45.408118",
     "exception": false,
     "start_time": "2021-08-31T15:59:43.567939",
     "status": "completed"
    },
    "tags": []
   },
   "outputs": [],
   "source": [
    "test = pd.read_csv(\"../input/30-days-of-ml/test.csv\", index_col=0)"
   ]
  },
  {
   "cell_type": "code",
   "execution_count": 6,
   "id": "26dd9904",
   "metadata": {
    "execution": {
     "iopub.execute_input": "2021-08-31T15:59:45.426703Z",
     "iopub.status.busy": "2021-08-31T15:59:45.426071Z",
     "iopub.status.idle": "2021-08-31T15:59:46.528918Z",
     "shell.execute_reply": "2021-08-31T15:59:46.528381Z"
    },
    "papermill": {
     "duration": 1.114401,
     "end_time": "2021-08-31T15:59:46.529076",
     "exception": false,
     "start_time": "2021-08-31T15:59:45.414675",
     "status": "completed"
    },
    "tags": []
   },
   "outputs": [],
   "source": [
    "ordinal_encoder = sklearn.preprocessing.OrdinalEncoder()\n",
    "test[object_cols] = ordinal_encoder.fit_transform(test[object_cols])"
   ]
  },
  {
   "cell_type": "code",
   "execution_count": 7,
   "id": "2c0f7870",
   "metadata": {
    "execution": {
     "iopub.execute_input": "2021-08-31T15:59:46.546694Z",
     "iopub.status.busy": "2021-08-31T15:59:46.546097Z",
     "iopub.status.idle": "2021-08-31T15:59:52.857883Z",
     "shell.execute_reply": "2021-08-31T15:59:52.858911Z"
    },
    "papermill": {
     "duration": 6.323379,
     "end_time": "2021-08-31T15:59:52.859117",
     "exception": false,
     "start_time": "2021-08-31T15:59:46.535738",
     "status": "completed"
    },
    "tags": []
   },
   "outputs": [],
   "source": [
    "predictions = XGB_model.predict(test)"
   ]
  },
  {
   "cell_type": "code",
   "execution_count": 8,
   "id": "5b3307c4",
   "metadata": {
    "execution": {
     "iopub.execute_input": "2021-08-31T15:59:52.884086Z",
     "iopub.status.busy": "2021-08-31T15:59:52.883226Z",
     "iopub.status.idle": "2021-08-31T15:59:53.250518Z",
     "shell.execute_reply": "2021-08-31T15:59:53.249959Z",
     "shell.execute_reply.started": "2021-08-28T17:16:23.437312Z"
    },
    "papermill": {
     "duration": 0.381933,
     "end_time": "2021-08-31T15:59:53.250663",
     "exception": false,
     "start_time": "2021-08-31T15:59:52.868730",
     "status": "completed"
    },
    "tags": []
   },
   "outputs": [],
   "source": [
    "output = pd.DataFrame({'Id': test.index,\n",
    "                       'target': predictions})\n",
    "output.to_csv('submission.csv', index=False)"
   ]
  }
 ],
 "metadata": {
  "kernelspec": {
   "display_name": "Python 3",
   "language": "python",
   "name": "python3"
  },
  "language_info": {
   "codemirror_mode": {
    "name": "ipython",
    "version": 3
   },
   "file_extension": ".py",
   "mimetype": "text/x-python",
   "name": "python",
   "nbconvert_exporter": "python",
   "pygments_lexer": "ipython3",
   "version": "3.7.10"
  },
  "papermill": {
   "default_parameters": {},
   "duration": 2321.037004,
   "end_time": "2021-08-31T15:59:53.967644",
   "environment_variables": {},
   "exception": null,
   "input_path": "__notebook__.ipynb",
   "output_path": "__notebook__.ipynb",
   "parameters": {},
   "start_time": "2021-08-31T15:21:12.930640",
   "version": "2.3.3"
  }
 },
 "nbformat": 4,
 "nbformat_minor": 5
}
